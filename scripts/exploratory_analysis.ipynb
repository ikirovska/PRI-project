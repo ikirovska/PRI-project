{
 "cells": [
  {
   "cell_type": "markdown",
   "metadata": {},
   "source": [
    "Exploratory analysis"
   ]
  },
  {
   "cell_type": "markdown",
   "metadata": {},
   "source": [
    "Stats before cleaning data:\n",
    "- Unis with at least one column missing:70"
   ]
  },
  {
   "cell_type": "code",
   "execution_count": 31,
   "metadata": {},
   "outputs": [],
   "source": [
    "raw_data_path = 'datasets/full_list.csv'\n",
    "cleaned_data_path = 'datasets/cleaned_full_list.csv'"
   ]
  },
  {
   "cell_type": "code",
   "execution_count": 78,
   "metadata": {},
   "outputs": [
    {
     "name": "stdout",
     "output_type": "stream",
     "text": [
      "Missing values for University of Luxembourg are: 2023 RANK, STATUS\n",
      "Missing values for ISCTE – University Institute of Lisbon are: 2023 RANK, AGE, International Students Score, International Students Rank\n",
      "Missing values for University of Valladolid are: STATUS\n",
      "Missing values for University of Salento are: 2023 RANK\n",
      "Missing values for University of Ioannina are: 2023 RANK, FOCUS, AGE, STATUS\n",
      "Missing values for Universidad CEU San Pablo are: STATUS\n",
      "Missing values for Ufa State Aviation Technical University are: International Research Network Score, International Research Network Rank\n",
      "Missing values for University of Córdoba (Spain) are: 2023 RANK, STATUS, International Students Score, International Students Rank\n",
      "Missing values for University of León are: 2023 RANK, STATUS\n",
      "Missing values for University of Oviedo are: International Students Score, International Students Rank\n",
      "Missing values for University of Lleida are: 2023 RANK, STATUS\n",
      "Missing values for University of Deusto are: 2023 RANK, STATUS, International Students Score, International Students Rank\n",
      "Missing values for University of Novi Sad are: International Students Score, International Students Rank\n",
      "Missing values for University of South Bohemia in České Budějovice are: International Students Score, International Students Rank\n",
      "Missing values for Suleyman Demirel University are: 2023 RANK\n",
      "Missing values for University of Osijek are: Employer Reputation Score, Employer Reputation Rank, International Students Score, International Students Rank\n",
      "Missing values for University of Limoges are: 2023 RANK, AGE, STATUS, International Students Score, International Students Rank\n",
      "Missing values for University of West Bohemia are: International Students Score, International Students Rank\n",
      "Missing values for Georgian Technical University are: 2023 RANK, SIZE, Faculty Student Score, Faculty Student Rank, Citations per Faculty Score, Citations per Faculty Rank, International Students Score, International Students Rank, Employment Outcomes Score, Employment Outcomes Rank\n",
      "Missing values for University of Craiova are: International Students Score, International Students Rank\n",
      "Number of universities that have at least one missing value: 20\n"
     ]
    }
   ],
   "source": [
    "#Returns a list of universities and the columns that they are missing(missing value)\n",
    "import pandas as pd\n",
    "\n",
    "\n",
    "df = pd.read_csv(cleaned_data_path)\n",
    "\n",
    "if 'Institution Name' in df.columns:\n",
    "    #create a dictionary to store missing values for each university\n",
    "    missing_values_by_uni = {}\n",
    "\n",
    "    #iterate through rows and group missing values by uni\n",
    "    for index, row in df.iterrows():\n",
    "        university_name = row['Institution Name']\n",
    "        missing_columns = [column for column in df.columns if column != 'Institution Name' and pd.isnull(row[column])]\n",
    "        \n",
    "        #store only universities that have a missing column\n",
    "        if university_name not in missing_values_by_uni and len(missing_columns) > 0:\n",
    "            missing_values_by_uni[university_name] = []\n",
    "            missing_values_by_uni[university_name].extend(missing_columns)\n",
    "\n",
    "    #print missing values grouped by university name\n",
    "    for university, missing_columns in missing_values_by_uni.items():\n",
    "        print(f\"Missing values for {university} are: {', '.join(missing_columns)}\")\n",
    "    \n",
    "    print(\"Number of universities that have at least one missing value:\", len(missing_values_by_uni))\n",
    "else:\n",
    "    print(\"Error: 'Institution Name' column not found in the DataFrame.\")\n"
   ]
  },
  {
   "cell_type": "code",
   "execution_count": 63,
   "metadata": {},
   "outputs": [
    {
     "name": "stdout",
     "output_type": "stream",
     "text": [
      "['2023 RANK', 'International Students Score', 'International Students Rank', 'STATUS', 'AGE']\n",
      "[('2023 RANK', 21), ('International Students Score', 21), ('International Students Rank', 21), ('STATUS', 18), ('AGE', 11)]\n"
     ]
    }
   ],
   "source": [
    "#Get 5 columns that have most missing values:\n",
    "#results using full_list.csv\n",
    "from collections import Counter\n",
    "columns = missing_values_by_uni.values()\n",
    "result = []\n",
    "for l in columns:\n",
    "    result.extend(l)\n",
    "    \n",
    "most_common_missing_columns = Counter(result).most_common(5)\n",
    "print([name for name,_ in most_common_missing_columns])\n",
    "print(most_common_missing_columns)"
   ]
  },
  {
   "cell_type": "code",
   "execution_count": 28,
   "metadata": {},
   "outputs": [],
   "source": [
    "#Delete the 5 columns which have most missing values:\n",
    "columns_to_delete = [name for name,_ in most_common_missing_columns]\n",
    "df.drop(columns=columns_to_delete, inplace=True)\n",
    "output_file_path = 'datasets/cleaned_full_list.csv'\n",
    "df.to_csv(output_file_path, index=False)"
   ]
  },
  {
   "cell_type": "code",
   "execution_count": 71,
   "metadata": {},
   "outputs": [
    {
     "name": "stdout",
     "output_type": "stream",
     "text": [
      "{'Norwegian University of Life Sciences': 12, 'Technical University of Crete': 12, 'Freiberg University of Mining and Technology': 12, 'Hamburg University of Technology': 12, 'Technical University of Kaiserslautern': 12, 'Sorbonne Paris North University': 12, 'Zurich University of Applied Sciences/ZHAW': 12, 'University of Franche-Comté': 11, 'University of Iceland': 11, 'University of Stavanger': 11}\n"
     ]
    }
   ],
   "source": [
    "#Get 10 universities which have most missing values/columns\n",
    "count_missing_values_by_uni = {}\n",
    "for uni in missing_values_by_uni:\n",
    "    count_missing_values_by_uni[uni] = len(missing_values_by_uni[uni])\n",
    "top_10_unis = dict(sorted(count_missing_values_by_uni.items(), key=lambda item: item[1], reverse=True)[:10])\n",
    "print(top_10_unis)"
   ]
  },
  {
   "cell_type": "code",
   "execution_count": 77,
   "metadata": {},
   "outputs": [
    {
     "name": "stdout",
     "output_type": "stream",
     "text": [
      "['Norwegian University of Life Sciences', 'Technical University of Crete', 'Freiberg University of Mining and Technology', 'Hamburg University of Technology', 'Technical University of Kaiserslautern', 'Sorbonne Paris North University', 'Zurich University of Applied Sciences/ZHAW', 'University of Franche-Comté', 'University of Iceland', 'University of Stavanger']\n"
     ]
    }
   ],
   "source": [
    "#Delete the 10 unis\n",
    "unis_name = [uni for uni in top_10_unis]\n",
    "print(unis_name)\n",
    "mask = ~df['Institution Name'].isin(unis_name)\n",
    "filtered_data = df[mask]\n",
    "filtered_data.to_csv(output_file_path, index = False)"
   ]
  },
  {
   "cell_type": "code",
   "execution_count": null,
   "metadata": {},
   "outputs": [],
   "source": []
  }
 ],
 "metadata": {
  "kernelspec": {
   "display_name": "base",
   "language": "python",
   "name": "python3"
  },
  "language_info": {
   "codemirror_mode": {
    "name": "ipython",
    "version": 3
   },
   "file_extension": ".py",
   "mimetype": "text/x-python",
   "name": "python",
   "nbconvert_exporter": "python",
   "pygments_lexer": "ipython3",
   "version": "3.9.7"
  },
  "orig_nbformat": 4
 },
 "nbformat": 4,
 "nbformat_minor": 2
}
