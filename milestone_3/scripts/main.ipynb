{
 "cells": [
  {
   "cell_type": "markdown",
   "metadata": {},
   "source": [
    "# Milestone 3"
   ]
  },
  {
   "cell_type": "markdown",
   "metadata": {},
   "source": [
    "First we have to encode the file so that the SentenceTransformer module can work with it."
   ]
  },
  {
   "cell_type": "code",
   "execution_count": 17,
   "metadata": {},
   "outputs": [],
   "source": [
    "import json\n",
    "\n",
    "json_file_path = \"../../milestone_1/datasets/06_University_documents.json\"\n",
    "new_json_file_path = \"../datasets/07_University_documents.json\"\n",
    "\n",
    "json_file = open(json_file_path)\n",
    "data = json.load(json_file)\n",
    "json_file.close()\n",
    "\n",
    "with open(new_json_file_path, 'w', encoding=\"utf-8\") as f:\n",
    "    json.dump(data, f, indent=4, ensure_ascii=False)"
   ]
  },
  {
   "cell_type": "code",
   "execution_count": 18,
   "metadata": {},
   "outputs": [],
   "source": [
    "import json\n",
    "from sentence_transformers import SentenceTransformer\n",
    "\n",
    "# Load the SentenceTransformer model\n",
    "model = SentenceTransformer('all-MiniLM-L6-v2')\n",
    "\n",
    "def get_embedding(text):\n",
    "    # The model.encode() method already returns a list of floats\n",
    "    return model.encode(text, convert_to_tensor=False).tolist()\n",
    "\n",
    "json_file_path = \"../datasets/07_University_documents.json\"\n",
    "new_json_file_path = \"../datasets/08_Vectorized_university_documents.json\"\n",
    "\n",
    "json_file = open(json_file_path, encoding=\"utf-8\")\n",
    "data = json.load(json_file)\n",
    "json_file.close()\n",
    "\n",
    "# Update each document in the JSON data\n",
    "\n",
    "combined_text=\"\"\n",
    "\n",
    "for document in data:\n",
    "    try:\n",
    "        # Extract fields if they exist, otherwise default to empty strings\n",
    "        city_wikipedia_text = document.get(\"city_wikipedia_text\", \"\")\n",
    "        wikipedia_text = document.get(\"wikipedia_text\", \"\")\n",
    "\n",
    "        combined_text = city_wikipedia_text + \" \" + wikipedia_text \n",
    "        \n",
    "        document[\"vector\"] = get_embedding(combined_text)\n",
    "    except:\n",
    "        print(\"ECXCEPTIOON: \", combined_text[87196])\n",
    "        \n",
    "        \n",
    "with open(new_json_file_path, 'w', encoding=\"utf-8\") as f:\n",
    "    json.dump(data, f, indent=4, ensure_ascii=False)"
   ]
  }
 ],
 "metadata": {
  "kernelspec": {
   "display_name": "Python 3",
   "language": "python",
   "name": "python3"
  },
  "language_info": {
   "codemirror_mode": {
    "name": "ipython",
    "version": 3
   },
   "file_extension": ".py",
   "mimetype": "text/x-python",
   "name": "python",
   "nbconvert_exporter": "python",
   "pygments_lexer": "ipython3",
   "version": "3.11.0"
  }
 },
 "nbformat": 4,
 "nbformat_minor": 2
}
