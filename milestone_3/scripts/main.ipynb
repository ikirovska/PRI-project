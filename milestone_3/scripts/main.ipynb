{
 "cells": [
  {
   "cell_type": "markdown",
   "metadata": {},
   "source": [
    "# Milestone 3"
   ]
  },
  {
   "cell_type": "markdown",
   "metadata": {},
   "source": [
    "First we have to encode the file so that the SentenceTransformer module can work with it."
   ]
  },
  {
   "cell_type": "code",
   "execution_count": 3,
   "metadata": {},
   "outputs": [],
   "source": [
    "import json\n",
    "\n",
    "json_file_path = \"../../milestone_1/datasets/06_University_documents.json\"\n",
    "new_json_file_path = \"../datasets/07_University_documents.json\"\n",
    "\n",
    "json_file = open(json_file_path)\n",
    "data = json.load(json_file)\n",
    "json_file.close()\n",
    "\n",
    "with open(new_json_file_path, 'w', encoding=\"utf-8\") as f:\n",
    "    json.dump(data, f, indent=4, ensure_ascii=False)"
   ]
  },
  {
   "cell_type": "code",
   "execution_count": 10,
   "metadata": {},
   "outputs": [],
   "source": [
    "import json\n",
    "from sentence_transformers import SentenceTransformer\n",
    "\n",
    "# Load the SentenceTransformer model\n",
    "model = SentenceTransformer('all-MiniLM-L6-v2')\n",
    "\n",
    "def get_embedding(text):\n",
    "    # The model.encode() method already returns a list of floats\n",
    "    return model.encode(text, convert_to_tensor=False).tolist()\n",
    "\n",
    "json_file_path = \"../datasets/07_University_documents.json\"\n",
    "new_json_file_path = \"../datasets/08_Vectorized_university_documents.json\"\n",
    "\n",
    "json_file = open(json_file_path, encoding=\"utf-8\")\n",
    "data = json.load(json_file)\n",
    "json_file.close()\n",
    "\n",
    "# Update each document in the JSON data\n",
    "\n",
    "combined_text=\"\"\n",
    "\n",
    "for document in data:\n",
    "    # Extract fields if they exist, otherwise default to empty strings\n",
    "    city_wikipedia_text = document.get(\"city_wikipedia_text\", \"\")\n",
    "    wikipedia_text = document.get(\"wikipedia_text\", \"\")\n",
    "    combined_text = city_wikipedia_text + \" \" + wikipedia_text \n",
    "    \n",
    "    document[\"university_vector\"] = get_embedding(combined_text)\n",
    "        \n",
    "with open(new_json_file_path, 'w', encoding=\"utf-8\") as f:\n",
    "    json.dump(data, f, indent=4, ensure_ascii=False)"
   ]
  },
  {
   "cell_type": "markdown",
   "metadata": {},
   "source": [
    "## Query example"
   ]
  },
  {
   "cell_type": "code",
   "execution_count": 28,
   "metadata": {},
   "outputs": [
    {
     "name": "stdout",
     "output_type": "stream",
     "text": [
      "* None University of Plymouth\n",
      "* None University of Manchester\n",
      "* None University of Leicester\n",
      "* None Aberystwyth University\n",
      "* None University of Exeter\n",
      "* None University of Sheffield\n",
      "* None University of St Andrews\n",
      "* None Newcastle University\n",
      "* None Aston University\n",
      "* None University of Liverpool\n"
     ]
    }
   ],
   "source": [
    "import requests\n",
    "from sentence_transformers import SentenceTransformer\n",
    "\n",
    "semantic_res = []\n",
    "query_res = []\n",
    "\n",
    "def text_to_embedding(text):\n",
    "    model = SentenceTransformer('all-MiniLM-L6-v2')\n",
    "    embedding = model.encode(text, convert_to_tensor=False).tolist()\n",
    "    \n",
    "    # Convert the embedding to the expected format\n",
    "    embedding_str = \"[\" + \",\".join(map(str, embedding)) + \"]\"\n",
    "    return embedding_str\n",
    "\n",
    "def solr_knn_query(endpoint, collection, embedding):\n",
    "    url = f\"{endpoint}/{collection}/select\"\n",
    "\n",
    "    data = {\n",
    "        \"q\": \"country: \\\"united kingdom\\\" country:biology country:top country:universities country:in country:biology country:courses\\nwikipedia_text:\\\"united kingdom\\\" wikipedia_text:\\\"biology\\\" wikipedia_text:top wikipedia_text:universities wikipedia_text:in wikipedia_text:biology country:courses\\ncity_wikipedia_text:\\\"united kingdom\\\" city_wikipedia_text:\\\"biology\\\" city_wikipedia_text:top city_wikipedia_text:universities city_wikipedia_text:in city_wikipedia_text:biology country:courses\\nsize:\\\"united kingdom\\\" size:biology size:top size:universities size:in size:biology size:courses\",\n",
    "        \"rqq\": f\"{{!knn f=university_vector topK=10}}{embedding}\",\n",
    "        \"fl\": \"2024_rank,institution_name\",\n",
    "        \"rows\": 10,\n",
    "        \"wt\": \"json\",\n",
    "        \"defType\": \"edismax\",\n",
    "        \"indent\": \"true\",\n",
    "        \"qf\": \"country^4 wikipedia_text^3 city_wikipedia_text^2 size\",\n",
    "        \"q.op\":\"OR\",\n",
    "    }\n",
    "    \n",
    "    headers = {\n",
    "        \"Content-Type\": \"application/x-www-form-urlencoded\"\n",
    "    }\n",
    "    \n",
    "    response = requests.post(url, data=data, headers=headers)\n",
    "    response.raise_for_status()\n",
    "    return response.json()\n",
    "\n",
    "def display_results(results):\n",
    "    docs = results.get(\"response\", {}).get(\"docs\", [])\n",
    "    if not docs:\n",
    "        print(\"No results found.\")\n",
    "        return\n",
    "\n",
    "    for doc in docs:\n",
    "        print(f\"* {doc.get('2024_rank')} {doc.get('institution_name')}\")\n",
    "        semantic_res.append({\"2024_rank\": doc.get('2024_rank'), \"institution_name\": doc.get('institution_name')})\n",
    "\n",
    "def main():\n",
    "    solr_endpoint = \"http://localhost:8983/solr\"\n",
    "    collection = \"universities\"\n",
    "    \n",
    "    #query_text = input(\"Enter your query: \")\n",
    "    embedding = text_to_embedding(\"top universites in united kingdom biology courses\")\n",
    "\n",
    "    try:\n",
    "        results = solr_knn_query(solr_endpoint, collection, embedding)\n",
    "        display_results(results)\n",
    "    except requests.HTTPError as e:\n",
    "        print(f\"Error {e.response.status_code}: {e.response.text}\")\n",
    "\n",
    "def query_search():\n",
    "    params = dict(\n",
    "        origin='Chicago,IL',\n",
    "        destination='Los+Angeles,CA',\n",
    "        waypoints='Joplin,MO|Oklahoma+City,OK',\n",
    "        sensor='false'\n",
    "    )\n",
    "\n",
    "    resp = requests.get(url=\"http://localhost:8983/solr/universities/select?indent=true&q.op=OR&q=country%3Afaculty%20country%3Aof%20country%3Aengineering%20country%3Ascience%20country%3Acity%20country%3Amediterranean%20country%3Aclimate%0Awikipedia_text%3Afaculty%20wikipedia_text%3Aof%20wikipedia_text%3Aengineering%20wikipedia_text%3A%20science%20wikipedia_text%3Acity%20wikipedia_text%3Amediterranean%20wikipedia_text%3Aclimate%0Acity_wikipedia_text%3Afaculty%20city_wikipedia_text%3Aof%20city_wikipedia_text%3Aengineering%20city_wikipedia_text%3Ascience%20city_wikipedia_text%3Acity%20city_wikipedia_text%3Amediterranean%20city_wikipedia_text%3Aclimate%0Asize%3Afaculty%20size%3Aof%20size%3Aengineering%20size%3Ascience%20size%3Acity%20size%3Amediterranean%20size%3Aclimate&useParams=\", params=params)\n",
    "    data = resp.json() \n",
    "    print(data)\n",
    "\n",
    "if __name__ == \"__main__\":\n",
    "    main()\n",
    "    #query_search()\n",
    "        \n"
   ]
  }
 ],
 "metadata": {
  "kernelspec": {
   "display_name": "Python 3",
   "language": "python",
   "name": "python3"
  },
  "language_info": {
   "codemirror_mode": {
    "name": "ipython",
    "version": 3
   },
   "file_extension": ".py",
   "mimetype": "text/x-python",
   "name": "python",
   "nbconvert_exporter": "python",
   "pygments_lexer": "ipython3",
   "version": "3.12.0"
  }
 },
 "nbformat": 4,
 "nbformat_minor": 2
}
