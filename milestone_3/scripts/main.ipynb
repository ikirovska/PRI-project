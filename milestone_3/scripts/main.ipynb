{
 "cells": [
  {
   "cell_type": "markdown",
   "metadata": {},
   "source": [
    "# Milestone 3"
   ]
  },
  {
   "cell_type": "markdown",
   "metadata": {},
   "source": [
    "First we have to encode the file so that the SentenceTransformer module can work with it."
   ]
  },
  {
   "cell_type": "code",
   "execution_count": 3,
   "metadata": {},
   "outputs": [],
   "source": [
    "import json\n",
    "\n",
    "json_file_path = \"../../milestone_1/datasets/06_University_documents.json\"\n",
    "new_json_file_path = \"../datasets/07_University_documents.json\"\n",
    "\n",
    "json_file = open(json_file_path)\n",
    "data = json.load(json_file)\n",
    "json_file.close()\n",
    "\n",
    "with open(new_json_file_path, 'w', encoding=\"utf-8\") as f:\n",
    "    json.dump(data, f, indent=4, ensure_ascii=False)"
   ]
  },
  {
   "cell_type": "code",
   "execution_count": 10,
   "metadata": {},
   "outputs": [],
   "source": [
    "import json\n",
    "from sentence_transformers import SentenceTransformer\n",
    "\n",
    "# Load the SentenceTransformer model\n",
    "model = SentenceTransformer('all-MiniLM-L6-v2')\n",
    "\n",
    "def get_embedding(text):\n",
    "    # The model.encode() method already returns a list of floats\n",
    "    return model.encode(text, convert_to_tensor=False).tolist()\n",
    "\n",
    "json_file_path = \"../datasets/07_University_documents.json\"\n",
    "new_json_file_path = \"../datasets/08_Vectorized_university_documents.json\"\n",
    "\n",
    "json_file = open(json_file_path, encoding=\"utf-8\")\n",
    "data = json.load(json_file)\n",
    "json_file.close()\n",
    "\n",
    "# Update each document in the JSON data\n",
    "\n",
    "combined_text=\"\"\n",
    "\n",
    "for document in data:\n",
    "    # Extract fields if they exist, otherwise default to empty strings\n",
    "    city_wikipedia_text = document.get(\"city_wikipedia_text\", \"\")\n",
    "    wikipedia_text = document.get(\"wikipedia_text\", \"\")\n",
    "    combined_text = city_wikipedia_text + \" \" + wikipedia_text \n",
    "    \n",
    "    document[\"university_vector\"] = get_embedding(combined_text)\n",
    "        \n",
    "with open(new_json_file_path, 'w', encoding=\"utf-8\") as f:\n",
    "    json.dump(data, f, indent=4, ensure_ascii=False)"
   ]
  },
  {
   "cell_type": "markdown",
   "metadata": {},
   "source": [
    "## Query example"
   ]
  },
  {
   "cell_type": "code",
   "execution_count": 13,
   "metadata": {},
   "outputs": [
    {
     "name": "stdout",
     "output_type": "stream",
     "text": [
      "* None University of Porto\n",
      "* None University of Minho\n",
      "* None University of Aveiro\n",
      "* None University of Castilla–La Mancha\n",
      "* None University of Lisbon\n",
      "* None University of Coimbra\n",
      "* None University of Seville\n",
      "* None Catholic University of Portugal\n",
      "* None University of Santiago de Compostela\n",
      "* None University of Valladolid\n"
     ]
    }
   ],
   "source": [
    "import requests\n",
    "from sentence_transformers import SentenceTransformer\n",
    "\n",
    "def text_to_embedding(text):\n",
    "    model = SentenceTransformer('all-MiniLM-L6-v2')\n",
    "    embedding = model.encode(text, convert_to_tensor=False).tolist()\n",
    "    \n",
    "    # Convert the embedding to the expected format\n",
    "    embedding_str = \"[\" + \",\".join(map(str, embedding)) + \"]\"\n",
    "    return embedding_str\n",
    "\n",
    "def solr_knn_query(endpoint, collection, embedding):\n",
    "    url = f\"{endpoint}/{collection}/select\"\n",
    "\n",
    "    data = {\n",
    "        \"q\": f\"{{!knn f=university_vector topK=10}}{embedding}\",\n",
    "        \"fl\": \"2024_rank,institution_name\",\n",
    "        \"rows\": 10,\n",
    "        \"wt\": \"json\"\n",
    "    }\n",
    "    \n",
    "    headers = {\n",
    "        \"Content-Type\": \"application/x-www-form-urlencoded\"\n",
    "    }\n",
    "    \n",
    "    response = requests.post(url, data=data, headers=headers)\n",
    "    response.raise_for_status()\n",
    "    return response.json()\n",
    "\n",
    "def display_results(results):\n",
    "    docs = results.get(\"response\", {}).get(\"docs\", [])\n",
    "    if not docs:\n",
    "        print(\"No results found.\")\n",
    "        return\n",
    "\n",
    "    for doc in docs:\n",
    "        print(f\"* {doc.get('2024_rank')} {doc.get('institution_name')}\")\n",
    "\n",
    "def main():\n",
    "    solr_endpoint = \"http://localhost:8983/solr\"\n",
    "    collection = \"universities\"\n",
    "    \n",
    "    #query_text = input(\"Enter your query: \")\n",
    "    embedding = text_to_embedding(\"Porto\")\n",
    "\n",
    "    try:\n",
    "        results = solr_knn_query(solr_endpoint, collection, embedding)\n",
    "        display_results(results)\n",
    "    except requests.HTTPError as e:\n",
    "        print(f\"Error {e.response.status_code}: {e.response.text}\")\n",
    "\n",
    "if __name__ == \"__main__\":\n",
    "    main()\n"
   ]
  }
 ],
 "metadata": {
  "kernelspec": {
   "display_name": "Python 3",
   "language": "python",
   "name": "python3"
  },
  "language_info": {
   "codemirror_mode": {
    "name": "ipython",
    "version": 3
   },
   "file_extension": ".py",
   "mimetype": "text/x-python",
   "name": "python",
   "nbconvert_exporter": "python",
   "pygments_lexer": "ipython3",
   "version": "3.11.0"
  }
 },
 "nbformat": 4,
 "nbformat_minor": 2
}
